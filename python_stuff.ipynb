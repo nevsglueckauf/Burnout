{
 "cells": [
  {
   "cell_type": "markdown",
   "id": "b1c2cb3b",
   "metadata": {},
   "source": [
    "# Projekt <br><i>Burnout der Arbeiterschaft, <br>Vorhersage von Burnout bei Arbeitnehmern</i>\n",
    "\n",
    "## Python\n",
    "\n",
    "Neben den beiden Hauptwerkzeugen [MS Power BI](https://www.microsoft.com/de-de/power-platform/products/power-b)  und \n",
    "[Knime](https://www.knime.com/) wurde auch [Python](https://www.python.org/) herangezogen für:\n",
    "\n",
    "- <i>»First Look«</i> auf die Daten\n",
    "- die <acronym  title=\"Exploratory Data Analysis\">EDA</acronym>\n",
    "- Charts und Diagramme\n",
    "\n",
    "### Bibliotheken einbinden und Trainingsdaten ansehen (<i>»First Look«</i>)"
   ]
  },
  {
   "cell_type": "code",
   "execution_count": null,
   "id": "e1e4f067",
   "metadata": {},
   "outputs": [],
   "source": [
    "import numpy as np\n",
    "import pandas as pd\n",
    "\n",
    "import seaborn as sns\n",
    "import matplotlib.pyplot as plt\n",
    "from scipy import stats \n",
    "import scipy.stats as st\n",
    "\n",
    "\n",
    "\n",
    "df = pd.read_csv(\"dta/train.csv\")\n",
    "\n",
    "# Datensatz ansehen\n",
    "x = 5\n",
    "y = x\n",
    "print(df.columns) # Spaltennamen\n",
    "\n",
    "print(df.describe()) # Beschreibung\n",
    "\n",
    "print(df.info()) # Info\n",
    "\n",
    "print(df.head(x)) # Erste x Zeilen\n",
    "\n",
    "print(df.tail(y)) # Erste y Zeilen\n"
   ]
  }
 ],
 "metadata": {
  "language_info": {
   "name": "python"
  }
 },
 "nbformat": 4,
 "nbformat_minor": 5
}
